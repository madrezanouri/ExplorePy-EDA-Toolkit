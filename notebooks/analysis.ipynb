{
 "cells": [
  {
   "cell_type": "code",
   "execution_count": null,
   "id": "e5b867da",
   "metadata": {},
   "outputs": [],
   "source": [
    "import matplotlib.pyplot as plt\n",
    "import seaborn as sns\n",
    "\n",
    "def univariate_analysis(df, column):\n",
    "    \"\"\"\n",
    "    Perform univariate analysis on a given column.\n",
    "    \n",
    "    Args:\n",
    "        df (pd.DataFrame): Dataset.\n",
    "        column (str): Column to analyze.\n",
    "        \n",
    "    Returns:\n",
    "        None\n",
    "    \"\"\"\n",
    "    print(f\"Summary Statistics for {column}:\")\n",
    "    print(df[column].describe(include='all'))\n",
    "    print(\"\\n\")\n",
    "\n",
    "    if df[column].dtype in ['int64', 'float64']:  # Numerical data\n",
    "        plt.figure(figsize=(14, 6))\n",
    "        \n",
    "        plt.subplot(1, 2, 1)\n",
    "        sns.histplot(df[column], kde=True, color='blue', bins=30)\n",
    "        plt.title(f\"Histogram of {column}\")\n",
    "        \n",
    "        plt.subplot(1, 2, 2)\n",
    "        sns.boxplot(x=df[column], color='blue')\n",
    "        plt.title(f\"Boxplot of {column}\")\n",
    "        \n",
    "        plt.show()\n",
    "    \n",
    "    elif df[column].dtype == 'object':  # Categorical data\n",
    "        plt.figure(figsize=(8, 6))\n",
    "        sns.countplot(y=df[column], palette='viridis', order=df[column].value_counts().index)\n",
    "        plt.title(f\"Frequency Count of {column}\")\n",
    "        plt.show()\n"
   ]
  },
  {
   "cell_type": "code",
   "execution_count": null,
   "id": "52086ad7",
   "metadata": {},
   "outputs": [],
   "source": [
    "# Numerical column\n",
    "univariate_analysis(df, 'age')\n",
    "\n",
    "# Categorical column\n",
    "univariate_analysis(df, 'gender')\n"
   ]
  },
  {
   "cell_type": "code",
   "execution_count": null,
   "id": "5739161f",
   "metadata": {},
   "outputs": [],
   "source": [
    "def bivariate_analysis(df, col1, col2):\n",
    "    \"\"\"\n",
    "    Perform bivariate analysis between two columns.\n",
    "    \n",
    "    Args:\n",
    "        df (pd.DataFrame): Dataset.\n",
    "        col1 (str): First column.\n",
    "        col2 (str): Second column.\n",
    "        \n",
    "    Returns:\n",
    "        None\n",
    "    \"\"\"\n",
    "    print(f\"Analyzing Relationship Between {col1} and {col2}:\")\n",
    "\n",
    "    if df[col1].dtype in ['int64', 'float64'] and df[col2].dtype in ['int64', 'float64']:\n",
    "        # Numerical vs Numerical\n",
    "        corr = df[col1].corr(df[col2])\n",
    "        print(f\"Correlation Coefficient: {corr}\")\n",
    "        sns.scatterplot(x=df[col1], y=df[col2], alpha=0.7)\n",
    "        plt.title(f\"Scatter Plot: {col1} vs {col2}\")\n",
    "        plt.show()\n",
    "\n",
    "    elif df[col1].dtype == 'object' and df[col2].dtype in ['int64', 'float64']:\n",
    "        # Categorical vs Numerical\n",
    "        sns.boxplot(x=df[col1], y=df[col2], palette='coolwarm')\n",
    "        plt.title(f\"Boxplot: {col1} vs {col2}\")\n",
    "        plt.show()\n",
    "    \n",
    "    elif df[col1].dtype == 'object' and df[col2].dtype == 'object':\n",
    "        # Categorical vs Categorical\n",
    "        crosstab = pd.crosstab(df[col1], df[col2])\n",
    "        sns.heatmap(crosstab, annot=True, fmt='d', cmap='YlGnBu')\n",
    "        plt.title(f\"Heatmap: {col1} vs {col2}\")\n",
    "        plt.show()\n"
   ]
  },
  {
   "cell_type": "code",
   "execution_count": null,
   "id": "b1108f30",
   "metadata": {},
   "outputs": [],
   "source": [
    "# Numerical vs Numerical\n",
    "bivariate_analysis(df, 'age', 'salary')\n",
    "\n",
    "# Categorical vs Numerical\n",
    "bivariate_analysis(df, 'department', 'salary')\n",
    "\n",
    "# Categorical vs Categorical\n",
    "bivariate_analysis(df, 'gender', 'department')\n"
   ]
  },
  {
   "cell_type": "code",
   "execution_count": null,
   "id": "5d4edf6a",
   "metadata": {},
   "outputs": [],
   "source": [
    "def multivariate_analysis(df, num_cols):\n",
    "    \"\"\"\n",
    "    Perform multivariate analysis for numerical columns.\n",
    "    \n",
    "    Args:\n",
    "        df (pd.DataFrame): Dataset.\n",
    "        num_cols (list): List of numerical columns.\n",
    "        \n",
    "    Returns:\n",
    "        None\n",
    "    \"\"\"\n",
    "    # Correlation Heatmap\n",
    "    corr_matrix = df[num_cols].corr()\n",
    "    plt.figure(figsize=(10, 8))\n",
    "    sns.heatmap(corr_matrix, annot=True, cmap='coolwarm', fmt=\".2f\")\n",
    "    plt.title(\"Correlation Heatmap\")\n",
    "    plt.show()\n",
    "    \n",
    "    # Pairplot\n",
    "    sns.pairplot(df[num_cols], diag_kind='kde', kind='reg', corner=True)\n",
    "    plt.suptitle(\"Pair Plot\", y=1.02)\n",
    "    plt.show()\n"
   ]
  },
  {
   "cell_type": "code",
   "execution_count": null,
   "id": "3fc8f56b",
   "metadata": {},
   "outputs": [],
   "source": [
    "numerical_columns = ['age', 'salary', 'experience']\n",
    "multivariate_analysis(df, numerical_columns)\n"
   ]
  },
  {
   "cell_type": "code",
   "execution_count": null,
   "id": "26d27342",
   "metadata": {},
   "outputs": [],
   "source": [
    "from statsmodels.tsa.seasonal import seasonal_decompose\n",
    "\n",
    "def time_series_analysis(df, time_col, value_col, freq='M'):\n",
    "    \"\"\"\n",
    "    Perform time series decomposition.\n",
    "    \n",
    "    Args:\n",
    "        df (pd.DataFrame): Dataset.\n",
    "        time_col (str): Time column.\n",
    "        value_col (str): Value column to analyze.\n",
    "        freq (str): Frequency ('D', 'M', etc.).\n",
    "        \n",
    "    Returns:\n",
    "        None\n",
    "    \"\"\"\n",
    "    df[time_col] = pd.to_datetime(df[time_col])\n",
    "    df = df.set_index(time_col)\n",
    "    decomposition = seasonal_decompose(df[value_col], model='additive', period=12)\n",
    "    decomposition.plot()\n",
    "    plt.show()\n"
   ]
  },
  {
   "cell_type": "code",
   "execution_count": null,
   "id": "2bb64bc5",
   "metadata": {},
   "outputs": [],
   "source": [
    "time_series_analysis(df, 'date', 'sales')\n"
   ]
  },
  {
   "cell_type": "code",
   "execution_count": null,
   "id": "b63b8530",
   "metadata": {},
   "outputs": [],
   "source": [
    "def grouped_analysis(df, group_col, agg_col, agg_func='mean'):\n",
    "    \"\"\"\n",
    "    Perform grouped analysis.\n",
    "    \n",
    "    Args:\n",
    "        df (pd.DataFrame): Dataset.\n",
    "        group_col (str): Column to group by.\n",
    "        agg_col (str): Column to aggregate.\n",
    "        agg_func (str): Aggregation function ('mean', 'sum', 'count', etc.).\n",
    "        \n",
    "    Returns:\n",
    "        pd.DataFrame: Grouped summary.\n",
    "    \"\"\"\n",
    "    grouped = df.groupby(group_col)[agg_col].agg(agg_func)\n",
    "    print(grouped)\n",
    "    grouped.plot(kind='bar', color='teal')\n",
    "    plt.title(f\"{agg_func.title()} of {agg_col} by {group_col}\")\n",
    "    plt.show()\n"
   ]
  },
  {
   "cell_type": "code",
   "execution_count": null,
   "id": "52b21987",
   "metadata": {},
   "outputs": [],
   "source": [
    "grouped_analysis(df, 'department', 'salary', 'mean')\n"
   ]
  }
 ],
 "metadata": {
  "kernelspec": {
   "display_name": "Python 3 (ipykernel)",
   "language": "python",
   "name": "python3"
  },
  "language_info": {
   "codemirror_mode": {
    "name": "ipython",
    "version": 3
   },
   "file_extension": ".py",
   "mimetype": "text/x-python",
   "name": "python",
   "nbconvert_exporter": "python",
   "pygments_lexer": "ipython3",
   "version": "3.11.5"
  }
 },
 "nbformat": 4,
 "nbformat_minor": 5
}
