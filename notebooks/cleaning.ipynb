{
 "cells": [
  {
   "cell_type": "code",
   "execution_count": null,
   "id": "b2c41ac8",
   "metadata": {},
   "outputs": [],
   "source": [
    "def data_quality_report(df):\n",
    "    \"\"\"\n",
    "    Generate a summary report of data quality issues.\n",
    "    \n",
    "    Args:\n",
    "        df (pd.DataFrame): Dataset.\n",
    "        \n",
    "    Returns:\n",
    "        pd.DataFrame: Summary of data quality issues.\n",
    "    \"\"\"\n",
    "    report = pd.DataFrame({\n",
    "        'Column': df.columns,\n",
    "        'DataType': df.dtypes,\n",
    "        'Non-Null Count': df.notnull().sum(),\n",
    "        'Null Count': df.isnull().sum(),\n",
    "        'Null Percentage': (df.isnull().sum() / len(df)) * 100,\n",
    "        'Unique Values': df.nunique(),\n",
    "        'Duplicate Rows': df.duplicated().sum()\n",
    "    }).reset_index(drop=True)\n",
    "    return report\n"
   ]
  },
  {
   "cell_type": "code",
   "execution_count": null,
   "id": "c2c0156d",
   "metadata": {},
   "outputs": [],
   "source": [
    "report = data_quality_report(df)\n",
    "print(report)\n"
   ]
  },
  {
   "cell_type": "code",
   "execution_count": null,
   "id": "08100eb2",
   "metadata": {},
   "outputs": [],
   "source": [
    "import seaborn as sns\n",
    "import matplotlib.pyplot as plt\n",
    "from sklearn.impute import KNNImputer\n",
    "\n",
    "def visualize_missing_data(df):\n",
    "    \"\"\"\n",
    "    Visualize missing data using a heatmap.\n",
    "    \n",
    "    Args:\n",
    "        df (pd.DataFrame): Dataset.\n",
    "    \"\"\"\n",
    "    plt.figure(figsize=(12, 6))\n",
    "    sns.heatmap(df.isnull(), cbar=False, cmap='viridis')\n",
    "    plt.title(\"Missing Data Heatmap\")\n",
    "    plt.show()\n",
    "\n",
    "def handle_missing_values(df, strategy=\"mean\", columns=None, knn_neighbors=5):\n",
    "    \"\"\"\n",
    "    Handle missing values in the dataset.\n",
    "    \n",
    "    Args:\n",
    "        df (pd.DataFrame): Dataset.\n",
    "        strategy (str): Strategy for handling missing values ('mean', 'median', 'mode', 'drop', 'knn').\n",
    "        columns (list): Specific columns to apply the strategy to. If None, applies to all columns.\n",
    "        knn_neighbors (int): Number of neighbors for KNN imputation.\n",
    "        \n",
    "    Returns:\n",
    "        pd.DataFrame: Dataset with missing values handled.\n",
    "    \"\"\"\n",
    "    columns = columns if columns else df.columns\n",
    "    \n",
    "    if strategy == \"drop\":\n",
    "        return df.dropna(subset=columns)\n",
    "    \n",
    "    for col in columns:\n",
    "        if strategy == \"mean\":\n",
    "            df[col].fillna(df[col].mean(), inplace=True)\n",
    "        elif strategy == \"median\":\n",
    "            df[col].fillna(df[col].median(), inplace=True)\n",
    "        elif strategy == \"mode\":\n",
    "            df[col].fillna(df[col].mode()[0], inplace=True)\n",
    "        elif strategy == \"knn\":\n",
    "            imputer = KNNImputer(n_neighbors=knn_neighbors)\n",
    "            df[col] = imputer.fit_transform(df[[col]])\n",
    "    \n",
    "    return df\n"
   ]
  },
  {
   "cell_type": "code",
   "execution_count": null,
   "id": "b34e8dff",
   "metadata": {},
   "outputs": [],
   "source": [
    "# Visualize missing data\n",
    "visualize_missing_data(df)\n",
    "\n",
    "# Handle missing values with mean imputation\n",
    "df_cleaned = handle_missing_values(df, strategy=\"mean\")\n",
    "\n",
    "# Handle missing values using KNN\n",
    "df_cleaned_knn = handle_missing_values(df, strategy=\"knn\", knn_neighbors=3)\n"
   ]
  },
  {
   "cell_type": "code",
   "execution_count": null,
   "id": "b0cee03e",
   "metadata": {},
   "outputs": [],
   "source": [
    "def remove_duplicates(df, subset=None):\n",
    "    \"\"\"\n",
    "    Remove duplicate rows from the dataset.\n",
    "    \n",
    "    Args:\n",
    "        df (pd.DataFrame): Dataset.\n",
    "        subset (list): Columns to check for duplicates. If None, checks all columns.\n",
    "        \n",
    "    Returns:\n",
    "        pd.DataFrame: Dataset without duplicates.\n",
    "    \"\"\"\n",
    "    return df.drop_duplicates(subset=subset)\n"
   ]
  },
  {
   "cell_type": "code",
   "execution_count": null,
   "id": "96c65037",
   "metadata": {},
   "outputs": [],
   "source": [
    "df_no_duplicates = remove_duplicates(df)\n"
   ]
  },
  {
   "cell_type": "code",
   "execution_count": null,
   "id": "ab07810d",
   "metadata": {},
   "outputs": [],
   "source": [
    "def detect_outliers_iqr(df, column):\n",
    "    \"\"\"\n",
    "    Detect outliers using the IQR method.\n",
    "    \n",
    "    Args:\n",
    "        df (pd.DataFrame): Dataset.\n",
    "        column (str): Column to check for outliers.\n",
    "        \n",
    "    Returns:\n",
    "        pd.DataFrame: Boolean mask where True indicates an outlier.\n",
    "    \"\"\"\n",
    "    Q1 = df[column].quantile(0.25)\n",
    "    Q3 = df[column].quantile(0.75)\n",
    "    IQR = Q3 - Q1\n",
    "    lower_bound = Q1 - 1.5 * IQR\n",
    "    upper_bound = Q3 + 1.5 * IQR\n",
    "    return (df[column] < lower_bound) | (df[column] > upper_bound)\n",
    "\n",
    "def remove_outliers(df, column):\n",
    "    \"\"\"\n",
    "    Remove outliers using the IQR method.\n",
    "    \n",
    "    Args:\n",
    "        df (pd.DataFrame): Dataset.\n",
    "        column (str): Column to check for outliers.\n",
    "        \n",
    "    Returns:\n",
    "        pd.DataFrame: Dataset without outliers.\n",
    "    \"\"\"\n",
    "    outliers = detect_outliers_iqr(df, column)\n",
    "    return df[~outliers]\n"
   ]
  },
  {
   "cell_type": "code",
   "execution_count": null,
   "id": "85b0c477",
   "metadata": {},
   "outputs": [],
   "source": [
    "outliers_mask = detect_outliers_iqr(df, 'salary')\n",
    "df_no_outliers = remove_outliers(df, 'salary')\n"
   ]
  },
  {
   "cell_type": "code",
   "execution_count": null,
   "id": "374d887e",
   "metadata": {},
   "outputs": [],
   "source": [
    "def convert_dtypes(df):\n",
    "    \"\"\"\n",
    "    Convert data types to optimize memory and ensure integrity.\n",
    "    \n",
    "    Args:\n",
    "        df (pd.DataFrame): Dataset.\n",
    "        \n",
    "    Returns:\n",
    "        pd.DataFrame: Dataset with optimized data types.\n",
    "    \"\"\"\n",
    "    for col in df.select_dtypes(include=['object']).columns:\n",
    "        try:\n",
    "            df[col] = pd.to_datetime(df[col])\n",
    "        except:\n",
    "            pass\n",
    "    for col in df.select_dtypes(include=['int', 'float']).columns:\n",
    "        df[col] = pd.to_numeric(df[col], downcast='float')\n",
    "    return df\n"
   ]
  },
  {
   "cell_type": "code",
   "execution_count": null,
   "id": "8c16889c",
   "metadata": {},
   "outputs": [],
   "source": [
    "df_cleaned = convert_dtypes(df)\n"
   ]
  },
  {
   "cell_type": "code",
   "execution_count": null,
   "id": "52d47e0c",
   "metadata": {},
   "outputs": [],
   "source": [
    "def encode_categorical(df, columns, encoding_type=\"one_hot\"):\n",
    "    \"\"\"\n",
    "    Encode categorical columns.\n",
    "    \n",
    "    Args:\n",
    "        df (pd.DataFrame): Dataset.\n",
    "        columns (list): List of categorical columns to encode.\n",
    "        encoding_type (str): Encoding type ('one_hot' or 'label').\n",
    "        \n",
    "    Returns:\n",
    "        pd.DataFrame: Dataset with encoded columns.\n",
    "    \"\"\"\n",
    "    if encoding_type == \"one_hot\":\n",
    "        return pd.get_dummies(df, columns=columns, drop_first=True)\n",
    "    elif encoding_type == \"label\":\n",
    "        from sklearn.preprocessing import LabelEncoder\n",
    "        le = LabelEncoder()\n",
    "        for col in columns:\n",
    "            df[col] = le.fit_transform(df[col])\n",
    "    return df\n"
   ]
  },
  {
   "cell_type": "code",
   "execution_count": null,
   "id": "03ca7715",
   "metadata": {},
   "outputs": [],
   "source": [
    "df_encoded = encode_categorical(df, columns=['gender', 'department'], encoding_type='one_hot')\n"
   ]
  }
 ],
 "metadata": {
  "kernelspec": {
   "display_name": "Python 3 (ipykernel)",
   "language": "python",
   "name": "python3"
  },
  "language_info": {
   "codemirror_mode": {
    "name": "ipython",
    "version": 3
   },
   "file_extension": ".py",
   "mimetype": "text/x-python",
   "name": "python",
   "nbconvert_exporter": "python",
   "pygments_lexer": "ipython3",
   "version": "3.11.5"
  }
 },
 "nbformat": 4,
 "nbformat_minor": 5
}
