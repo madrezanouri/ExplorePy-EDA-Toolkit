{
 "cells": [
  {
   "cell_type": "code",
   "execution_count": null,
   "id": "94b423e5",
   "metadata": {},
   "outputs": [],
   "source": [
    "import matplotlib.pyplot as plt\n",
    "import seaborn as sns\n",
    "\n",
    "def univariate_visualization(df, column):\n",
    "    \"\"\"\n",
    "    Generate univariate visualizations for a column.\n",
    "    \n",
    "    Args:\n",
    "        df (pd.DataFrame): Dataset.\n",
    "        column (str): Column to visualize.\n",
    "        \n",
    "    Returns:\n",
    "        None\n",
    "    \"\"\"\n",
    "    if df[column].dtype in ['int64', 'float64']:\n",
    "        # Numerical data\n",
    "        plt.figure(figsize=(14, 6))\n",
    "        \n",
    "        plt.subplot(1, 2, 1)\n",
    "        sns.histplot(df[column], kde=True, color='blue', bins=30)\n",
    "        plt.title(f\"Histogram of {column}\")\n",
    "        \n",
    "        plt.subplot(1, 2, 2)\n",
    "        sns.boxplot(x=df[column], color='blue')\n",
    "        plt.title(f\"Boxplot of {column}\")\n",
    "        \n",
    "        plt.show()\n",
    "    elif df[column].dtype == 'object':\n",
    "        # Categorical data\n",
    "        plt.figure(figsize=(10, 6))\n",
    "        sns.countplot(y=df[column], palette='viridis', order=df[column].value_counts().index)\n",
    "        plt.title(f\"Bar Chart of {column}\")\n",
    "        plt.show()\n",
    "        \n",
    "        # Pie chart\n",
    "        plt.figure(figsize=(8, 8))\n",
    "        df[column].value_counts().plot.pie(autopct='%1.1f%%', startangle=90, colors=sns.color_palette('pastel'))\n",
    "        plt.title(f\"Pie Chart of {column}\")\n",
    "        plt.ylabel(\"\")  # Remove y-label for aesthetics\n",
    "        plt.show()\n"
   ]
  },
  {
   "cell_type": "code",
   "execution_count": null,
   "id": "96bcced0",
   "metadata": {},
   "outputs": [],
   "source": [
    "# Numerical column\n",
    "univariate_visualization(df, 'age')\n",
    "\n",
    "# Categorical column\n",
    "univariate_visualization(df, 'department')\n"
   ]
  },
  {
   "cell_type": "code",
   "execution_count": null,
   "id": "c7667808",
   "metadata": {},
   "outputs": [],
   "source": [
    "def bivariate_visualization(df, col1, col2):\n",
    "    \"\"\"\n",
    "    Generate bivariate visualizations for two columns.\n",
    "    \n",
    "    Args:\n",
    "        df (pd.DataFrame): Dataset.\n",
    "        col1 (str): First column.\n",
    "        col2 (str): Second column.\n",
    "        \n",
    "    Returns:\n",
    "        None\n",
    "    \"\"\"\n",
    "    if df[col1].dtype in ['int64', 'float64'] and df[col2].dtype in ['int64', 'float64']:\n",
    "        # Numerical vs Numerical\n",
    "        plt.figure(figsize=(8, 6))\n",
    "        sns.scatterplot(x=df[col1], y=df[col2], alpha=0.7, color='green')\n",
    "        plt.title(f\"Scatter Plot: {col1} vs {col2}\")\n",
    "        plt.show()\n",
    "        \n",
    "        # Linear Regression Plot\n",
    "        sns.lmplot(x=col1, y=col2, data=df, line_kws={'color': 'red'})\n",
    "        plt.title(f\"Regression Plot: {col1} vs {col2}\")\n",
    "        plt.show()\n",
    "\n",
    "    elif df[col1].dtype == 'object' and df[col2].dtype in ['int64', 'float64']:\n",
    "        # Categorical vs Numerical\n",
    "        plt.figure(figsize=(12, 6))\n",
    "        sns.boxplot(x=df[col1], y=df[col2], palette='coolwarm')\n",
    "        plt.title(f\"Boxplot: {col1} vs {col2}\")\n",
    "        plt.show()\n",
    "\n",
    "    elif df[col1].dtype == 'object' and df[col2].dtype == 'object':\n",
    "        # Categorical vs Categorical\n",
    "        crosstab = pd.crosstab(df[col1], df[col2])\n",
    "        sns.heatmap(crosstab, annot=True, fmt='d', cmap='YlGnBu')\n",
    "        plt.title(f\"Heatmap: {col1} vs {col2}\")\n",
    "        plt.show()\n"
   ]
  },
  {
   "cell_type": "code",
   "execution_count": null,
   "id": "2d8cb35c",
   "metadata": {},
   "outputs": [],
   "source": [
    "# Numerical vs Numerical\n",
    "bivariate_visualization(df, 'age', 'salary')\n",
    "\n",
    "# Categorical vs Numerical\n",
    "bivariate_visualization(df, 'department', 'salary')\n",
    "\n",
    "# Categorical vs Categorical\n",
    "bivariate_visualization(df, 'gender', 'department')\n"
   ]
  },
  {
   "cell_type": "code",
   "execution_count": null,
   "id": "a0abdf4b",
   "metadata": {},
   "outputs": [],
   "source": [
    "def pair_plot(df, numerical_columns):\n",
    "    \"\"\"\n",
    "    Generate a pair plot for numerical columns.\n",
    "    \n",
    "    Args:\n",
    "        df (pd.DataFrame): Dataset.\n",
    "        numerical_columns (list): List of numerical columns to include in the pair plot.\n",
    "        \n",
    "    Returns:\n",
    "        None\n",
    "    \"\"\"\n",
    "    sns.pairplot(df[numerical_columns], diag_kind='kde', kind='reg', corner=True)\n",
    "    plt.suptitle(\"Pair Plot\", y=1.02)\n",
    "    plt.show()\n"
   ]
  },
  {
   "cell_type": "code",
   "execution_count": null,
   "id": "3b24542c",
   "metadata": {},
   "outputs": [],
   "source": [
    "pair_plot(df, ['age', 'salary', 'experience'])\n"
   ]
  },
  {
   "cell_type": "code",
   "execution_count": null,
   "id": "5691e739",
   "metadata": {},
   "outputs": [],
   "source": [
    "def correlation_heatmap(df, numerical_columns):\n",
    "    \"\"\"\n",
    "    Generate a correlation heatmap for numerical columns.\n",
    "    \n",
    "    Args:\n",
    "        df (pd.DataFrame): Dataset.\n",
    "        numerical_columns (list): List of numerical columns.\n",
    "        \n",
    "    Returns:\n",
    "        None\n",
    "    \"\"\"\n",
    "    plt.figure(figsize=(10, 8))\n",
    "    corr_matrix = df[numerical_columns].corr()\n",
    "    sns.heatmap(corr_matrix, annot=True, cmap='coolwarm', fmt='.2f', linewidths=0.5)\n",
    "    plt.title(\"Correlation Heatmap\")\n",
    "    plt.show()\n"
   ]
  },
  {
   "cell_type": "code",
   "execution_count": null,
   "id": "dd30cc34",
   "metadata": {},
   "outputs": [],
   "source": [
    "correlation_heatmap(df, ['age', 'salary', 'experience'])\n"
   ]
  },
  {
   "cell_type": "code",
   "execution_count": null,
   "id": "83a74635",
   "metadata": {},
   "outputs": [],
   "source": [
    "def multi_variant_matrix(df, numerical_columns):\n",
    "    \"\"\"\n",
    "    Generate a multi-variant matrix with KDE plots on the diagonal\n",
    "    and regression scatter plots on the off-diagonal.\n",
    "    \n",
    "    Args:\n",
    "        df (pd.DataFrame): Dataset.\n",
    "        numerical_columns (list): List of numerical columns.\n",
    "        \n",
    "    Returns:\n",
    "        None\n",
    "    \"\"\"\n",
    "    sns.pairplot(df[numerical_columns], diag_kind=\"kde\", kind=\"reg\", corner=True)\n",
    "    plt.suptitle(\"Multi-Variant Analysis Matrix\", y=1.02)\n",
    "    plt.show()\n"
   ]
  },
  {
   "cell_type": "code",
   "execution_count": null,
   "id": "f24a1bc9",
   "metadata": {},
   "outputs": [],
   "source": [
    "multi_variant_matrix(df, ['age', 'salary', 'experience'])\n"
   ]
  },
  {
   "cell_type": "code",
   "execution_count": null,
   "id": "b2798d47",
   "metadata": {},
   "outputs": [],
   "source": [
    "import plotly.express as px\n",
    "\n",
    "def interactive_scatter_plot(df, x, y, color=None, size=None):\n",
    "    \"\"\"\n",
    "    Generate an interactive scatter plot using Plotly.\n",
    "    \n",
    "    Args:\n",
    "        df (pd.DataFrame): Dataset.\n",
    "        x (str): X-axis variable.\n",
    "        y (str): Y-axis variable.\n",
    "        color (str): Column to color the points.\n",
    "        size (str): Column to size the points.\n",
    "        \n",
    "    Returns:\n",
    "        None\n",
    "    \"\"\"\n",
    "    fig = px.scatter(df, x=x, y=y, color=color, size=size, title=f\"{x} vs {y}\")\n",
    "    fig.show()\n"
   ]
  },
  {
   "cell_type": "code",
   "execution_count": null,
   "id": "e1d1a00a",
   "metadata": {},
   "outputs": [],
   "source": [
    "interactive_scatter_plot(df, x='age', y='salary', color='department', size='experience')\n"
   ]
  },
  {
   "cell_type": "code",
   "execution_count": null,
   "id": "00493947",
   "metadata": {},
   "outputs": [],
   "source": [
    "from pandas_profiling import ProfileReport\n",
    "\n",
    "def generate_eda_report(df, report_name=\"eda_report.html\"):\n",
    "    \"\"\"\n",
    "    Generate an automated EDA report using pandas-profiling.\n",
    "    \n",
    "    Args:\n",
    "        df (pd.DataFrame): Dataset.\n",
    "        report_name (str): Name of the output HTML report.\n",
    "        \n",
    "    Returns:\n",
    "        None\n",
    "    \"\"\"\n",
    "    profile = ProfileReport(df, title=\"Exploratory Data Analysis Report\", explorative=True)\n",
    "    profile.to_file(report_name)\n"
   ]
  },
  {
   "cell_type": "code",
   "execution_count": null,
   "id": "2e756b44",
   "metadata": {},
   "outputs": [],
   "source": [
    "generate_eda_report(df, report_name=\"my_eda_report.html\")\n"
   ]
  }
 ],
 "metadata": {
  "kernelspec": {
   "display_name": "Python 3 (ipykernel)",
   "language": "python",
   "name": "python3"
  },
  "language_info": {
   "codemirror_mode": {
    "name": "ipython",
    "version": 3
   },
   "file_extension": ".py",
   "mimetype": "text/x-python",
   "name": "python",
   "nbconvert_exporter": "python",
   "pygments_lexer": "ipython3",
   "version": "3.11.5"
  }
 },
 "nbformat": 4,
 "nbformat_minor": 5
}
